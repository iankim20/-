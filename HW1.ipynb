{
  "nbformat": 4,
  "nbformat_minor": 0,
  "metadata": {
    "colab": {
      "name": "HW1.ipynb",
      "provenance": [],
      "collapsed_sections": [],
      "include_colab_link": true
    },
    "kernelspec": {
      "name": "python3",
      "display_name": "Python 3"
    }
  },
  "cells": [
    {
      "cell_type": "markdown",
      "metadata": {
        "id": "view-in-github",
        "colab_type": "text"
      },
      "source": [
        "<a href=\"https://colab.research.google.com/github/iankim20/-/blob/AI-and-medicine/HW1.ipynb\" target=\"_parent\"><img src=\"https://colab.research.google.com/assets/colab-badge.svg\" alt=\"Open In Colab\"/></a>"
      ]
    },
    {
      "cell_type": "code",
      "metadata": {
        "id": "z7Q49batGkKG",
        "colab": {
          "base_uri": "https://localhost:8080/",
          "height": 34
        },
        "outputId": "10ca0bc8-2ed2-44d6-c93b-081b384a2bbf"
      },
      "source": [
        "from google.colab import drive                #구글드라이브에 마운트\n",
        "drive.mount('/gdrive')"
      ],
      "execution_count": null,
      "outputs": [
        {
          "output_type": "stream",
          "text": [
            "Drive already mounted at /gdrive; to attempt to forcibly remount, call drive.mount(\"/gdrive\", force_remount=True).\n"
          ],
          "name": "stdout"
        }
      ]
    },
    {
      "cell_type": "code",
      "metadata": {
        "id": "CA-A4REMHfix",
        "colab": {
          "base_uri": "https://localhost:8080/",
          "height": 1126
        },
        "outputId": "cccf676e-6abf-4fc4-9167-f6ea8fc19469"
      },
      "source": [
        "!ls '/gdrive/Team Drives/SevAIClass/LITS17'       #팀드라이브에 접속"
      ],
      "execution_count": null,
      "outputs": [
        {
          "output_type": "stream",
          "text": [
            "segmentation-0.nii    segmentation-41.nii  volume-100.nii  volume-42.nii\n",
            "segmentation-100.nii  segmentation-42.nii  volume-101.nii  volume-43.nii\n",
            "segmentation-101.nii  segmentation-43.nii  volume-102.nii  volume-44.nii\n",
            "segmentation-102.nii  segmentation-44.nii  volume-103.nii  volume-45.nii\n",
            "segmentation-103.nii  segmentation-45.nii  volume-104.nii  volume-46.nii\n",
            "segmentation-104.nii  segmentation-46.nii  volume-105.nii  volume-47.nii\n",
            "segmentation-105.nii  segmentation-47.nii  volume-106.nii  volume-48.nii\n",
            "segmentation-106.nii  segmentation-48.nii  volume-107.nii  volume-49.nii\n",
            "segmentation-107.nii  segmentation-49.nii  volume-108.nii  volume-4.nii\n",
            "segmentation-108.nii  segmentation-4.nii   volume-109.nii  volume-50.nii\n",
            "segmentation-109.nii  segmentation-50.nii  volume-10.nii   volume-51.nii\n",
            "segmentation-10.nii   segmentation-51.nii  volume-110.nii  volume-52.nii\n",
            "segmentation-110.nii  segmentation-52.nii  volume-111.nii  volume-53.nii\n",
            "segmentation-111.nii  segmentation-53.nii  volume-112.nii  volume-54.nii\n",
            "segmentation-112.nii  segmentation-54.nii  volume-113.nii  volume-55.nii\n",
            "segmentation-113.nii  segmentation-55.nii  volume-114.nii  volume-56.nii\n",
            "segmentation-114.nii  segmentation-56.nii  volume-115.nii  volume-57.nii\n",
            "segmentation-115.nii  segmentation-57.nii  volume-116.nii  volume-58.nii\n",
            "segmentation-116.nii  segmentation-58.nii  volume-117.nii  volume-59.nii\n",
            "segmentation-117.nii  segmentation-59.nii  volume-118.nii  volume-5.nii\n",
            "segmentation-118.nii  segmentation-5.nii   volume-119.nii  volume-60.nii\n",
            "segmentation-119.nii  segmentation-60.nii  volume-11.nii   volume-61.nii\n",
            "segmentation-11.nii   segmentation-61.nii  volume-120.nii  volume-62.nii\n",
            "segmentation-120.nii  segmentation-62.nii  volume-121.nii  volume-63.nii\n",
            "segmentation-121.nii  segmentation-63.nii  volume-122.nii  volume-64.nii\n",
            "segmentation-122.nii  segmentation-64.nii  volume-123.nii  volume-65.nii\n",
            "segmentation-123.nii  segmentation-65.nii  volume-124.nii  volume-66.nii\n",
            "segmentation-124.nii  segmentation-66.nii  volume-125.nii  volume-67.nii\n",
            "segmentation-125.nii  segmentation-67.nii  volume-126.nii  volume-68.nii\n",
            "segmentation-126.nii  segmentation-68.nii  volume-127.nii  volume-69.nii\n",
            "segmentation-127.nii  segmentation-69.nii  volume-128.nii  volume-6.nii\n",
            "segmentation-128.nii  segmentation-6.nii   volume-129.nii  volume-70.nii\n",
            "segmentation-129.nii  segmentation-70.nii  volume-12.nii   volume-71.nii\n",
            "segmentation-12.nii   segmentation-71.nii  volume-130.nii  volume-72.nii\n",
            "segmentation-130.nii  segmentation-72.nii  volume-13.nii   volume-73.nii\n",
            "segmentation-13.nii   segmentation-73.nii  volume-14.nii   volume-74.nii\n",
            "segmentation-14.nii   segmentation-74.nii  volume-15.nii   volume-75.nii\n",
            "segmentation-15.nii   segmentation-75.nii  volume-16.nii   volume-76.nii\n",
            "segmentation-16.nii   segmentation-76.nii  volume-17.nii   volume-77.nii\n",
            "segmentation-17.nii   segmentation-77.nii  volume-18.nii   volume-78.nii\n",
            "segmentation-18.nii   segmentation-78.nii  volume-19.nii   volume-79.nii\n",
            "segmentation-19.nii   segmentation-79.nii  volume-1.nii    volume-7.nii\n",
            "segmentation-1.nii    segmentation-7.nii   volume-20.nii   volume-80.nii\n",
            "segmentation-20.nii   segmentation-80.nii  volume-21.nii   volume-81.nii\n",
            "segmentation-21.nii   segmentation-81.nii  volume-22.nii   volume-82.nii\n",
            "segmentation-22.nii   segmentation-82.nii  volume-23.nii   volume-83.nii\n",
            "segmentation-23.nii   segmentation-83.nii  volume-24.nii   volume-84.nii\n",
            "segmentation-24.nii   segmentation-84.nii  volume-25.nii   volume-85.nii\n",
            "segmentation-25.nii   segmentation-85.nii  volume-26.nii   volume-86.nii\n",
            "segmentation-26.nii   segmentation-86.nii  volume-27.nii   volume-87.nii\n",
            "segmentation-27.nii   segmentation-87.nii  volume-28.nii   volume-88.nii\n",
            "segmentation-28.nii   segmentation-88.nii  volume-29.nii   volume-89.nii\n",
            "segmentation-29.nii   segmentation-89.nii  volume-2.nii    volume-8.nii\n",
            "segmentation-2.nii    segmentation-8.nii   volume-30.nii   volume-90.nii\n",
            "segmentation-30.nii   segmentation-90.nii  volume-31.nii   volume-91.nii\n",
            "segmentation-31.nii   segmentation-91.nii  volume-32.nii   volume-92.nii\n",
            "segmentation-32.nii   segmentation-92.nii  volume-33.nii   volume-93.nii\n",
            "segmentation-33.nii   segmentation-93.nii  volume-34.nii   volume-94.nii\n",
            "segmentation-34.nii   segmentation-94.nii  volume-35.nii   volume-95.nii\n",
            "segmentation-35.nii   segmentation-95.nii  volume-36.nii   volume-96.nii\n",
            "segmentation-36.nii   segmentation-96.nii  volume-37.nii   volume-97.nii\n",
            "segmentation-37.nii   segmentation-97.nii  volume-38.nii   volume-98.nii\n",
            "segmentation-38.nii   segmentation-98.nii  volume-39.nii   volume-99.nii\n",
            "segmentation-39.nii   segmentation-99.nii  volume-3.nii    volume-9.nii\n",
            "segmentation-3.nii    segmentation-9.nii   volume-40.nii\n",
            "segmentation-40.nii   volume-0.nii\t   volume-41.nii\n"
          ],
          "name": "stdout"
        }
      ]
    },
    {
      "cell_type": "code",
      "metadata": {
        "id": "_VpcRepCNZEf",
        "colab": {
          "base_uri": "https://localhost:8080/",
          "height": 263
        },
        "outputId": "80b7583a-d939-499e-950c-226b4793bf81"
      },
      "source": [
        "!pip install nibabel\n",
        "import os\n",
        "import nibabel as nib\n",
        "import numpy as np\n",
        "import matplotlib.pyplot as plt\n",
        "\n",
        "LITS_DIR = '/gdrive/Team Drives/SevAIClass/LITS17'\n",
        "\n"
      ],
      "execution_count": null,
      "outputs": [
        {
          "output_type": "stream",
          "text": [
            "Requirement already satisfied: nibabel in /usr/local/lib/python3.6/dist-packages (2.3.3)\n",
            "Requirement already satisfied: numpy>=1.7.1 in /usr/local/lib/python3.6/dist-packages (from nibabel) (1.16.3)\n",
            "Requirement already satisfied: six>=1.3 in /usr/local/lib/python3.6/dist-packages (from nibabel) (1.12.0)\n",
            "Requirement already satisfied: bz2file in /usr/local/lib/python3.6/dist-packages (from nibabel) (0.98)\n"
          ],
          "name": "stdout"
        },
        {
          "output_type": "error",
          "ename": "NameError",
          "evalue": "ignored",
          "traceback": [
            "\u001b[0;31m---------------------------------------------------------------------------\u001b[0m",
            "\u001b[0;31mNameError\u001b[0m                                 Traceback (most recent call last)",
            "\u001b[0;32m<ipython-input-3-75489fd8522c>\u001b[0m in \u001b[0;36m<module>\u001b[0;34m()\u001b[0m\n\u001b[1;32m      8\u001b[0m \u001b[0;34m\u001b[0m\u001b[0m\n\u001b[1;32m      9\u001b[0m \u001b[0ma\u001b[0m \u001b[0;34m=\u001b[0m \u001b[0mnp\u001b[0m\u001b[0;34m.\u001b[0m\u001b[0masarray\u001b[0m\u001b[0;34m(\u001b[0m\u001b[0;34m[\u001b[0m \u001b[0;34m[\u001b[0m\u001b[0;36m1\u001b[0m\u001b[0;34m,\u001b[0m\u001b[0;36m2\u001b[0m\u001b[0;34m,\u001b[0m\u001b[0;36m3\u001b[0m\u001b[0;34m]\u001b[0m\u001b[0;34m,\u001b[0m \u001b[0;34m[\u001b[0m\u001b[0;36m4\u001b[0m\u001b[0;34m,\u001b[0m\u001b[0;36m5\u001b[0m\u001b[0;34m,\u001b[0m\u001b[0;36m6\u001b[0m\u001b[0;34m]\u001b[0m\u001b[0;34m,\u001b[0m \u001b[0;34m[\u001b[0m\u001b[0;36m7\u001b[0m\u001b[0;34m,\u001b[0m\u001b[0;36m8\u001b[0m\u001b[0;34m,\u001b[0m\u001b[0;36m9\u001b[0m\u001b[0;34m]\u001b[0m \u001b[0;34m]\u001b[0m\u001b[0;34m)\u001b[0m\u001b[0;34m\u001b[0m\u001b[0;34m\u001b[0m\u001b[0m\n\u001b[0;32m---> 10\u001b[0;31m \u001b[0mnumpy\u001b[0m\u001b[0;34m.\u001b[0m\u001b[0msavetxt\u001b[0m\u001b[0;34m(\u001b[0m\u001b[0;34m\"foo.csv\"\u001b[0m\u001b[0;34m,\u001b[0m \u001b[0ma\u001b[0m\u001b[0;34m,\u001b[0m \u001b[0mdelimiter\u001b[0m\u001b[0;34m=\u001b[0m\u001b[0;34m\",\"\u001b[0m\u001b[0;34m)\u001b[0m\u001b[0;34m\u001b[0m\u001b[0;34m\u001b[0m\u001b[0m\n\u001b[0m",
            "\u001b[0;31mNameError\u001b[0m: name 'numpy' is not defined"
          ]
        }
      ]
    },
    {
      "cell_type": "code",
      "metadata": {
        "id": "E9DwncXsecO0"
      },
      "source": [
        ""
      ],
      "execution_count": null,
      "outputs": []
    },
    {
      "cell_type": "code",
      "metadata": {
        "id": "PwhkwhptNo2m",
        "colab": {
          "base_uri": "https://localhost:8080/",
          "height": 168
        },
        "outputId": "41e14d59-3ec6-4e9f-a2de-359c3749f6b2"
      },
      "source": [
        "\n",
        "img=nib.load(os.path.join(LITS_DIR, 'segmentation-73.nii'))\n",
        "\n",
        "data=img.get_fdata()\n",
        "print(data.shape)\n",
        "print(type(data))\n",
        "print(data[:, :, 100])\n"
      ],
      "execution_count": null,
      "outputs": [
        {
          "output_type": "stream",
          "text": [
            "(512, 512, 121)\n",
            "<class 'numpy.memmap'>\n",
            "[[0. 0. 0. ... 0. 0. 0.]\n",
            " [0. 0. 0. ... 0. 0. 0.]\n",
            " [0. 0. 0. ... 0. 0. 0.]\n",
            " ...\n",
            " [0. 0. 0. ... 0. 0. 0.]\n",
            " [0. 0. 0. ... 0. 0. 0.]\n",
            " [0. 0. 0. ... 0. 0. 0.]]\n"
          ],
          "name": "stdout"
        }
      ]
    },
    {
      "cell_type": "code",
      "metadata": {
        "id": "yY147xQJOiIW",
        "colab": {
          "base_uri": "https://localhost:8080/",
          "height": 67
        },
        "outputId": "3f4ea5d6-de08-4876-8a71-f2f9f761aa44"
      },
      "source": [
        "\n",
        "print(img.header.get_zooms())\n",
        "header=img.header.get_zooms()\n",
        "size=header[0]*header[1]*header[2]\n",
        "\n",
        "slice100=data[:, :, 100]\n",
        "get_indices=np.nonzero(slice100)\n",
        "\n",
        "maskslice=np.ma.masked_values(slice100,1.0)\n",
        "\n",
        "print(slice100.sum()*size)\n",
        "\n",
        "print(maskslice.sum())\n",
        "\n"
      ],
      "execution_count": null,
      "outputs": [
        {
          "output_type": "stream",
          "text": [
            "(0.9511719, 0.9511719, 4.0)\n",
            "79065.98376464844\n",
            "244.0\n"
          ],
          "name": "stdout"
        }
      ]
    },
    {
      "cell_type": "code",
      "metadata": {
        "id": "DEPWmhusHOGK",
        "colab": {
          "base_uri": "https://localhost:8080/",
          "height": 2253
        },
        "outputId": "0f49e46a-1691-4f62-af80-d6032f26bbd0"
      },
      "source": [
        "volume = np.zeros(131)\n",
        "\n",
        "\n",
        "def vol(imgfile):\n",
        "  volume=0\n",
        "  voxel_size = imgfile.header.get_zooms()\n",
        "  voxel_volume = voxel_size[0]*voxel_size[1]*voxel_size[2]\n",
        "  \n",
        "  data=imgfile.get_fdata()\n",
        "  N=data.shape[2]\n",
        "  for i in range(N):\n",
        "    volume += voxel_volume*np.count_nonzero(data[:, :, i])\n",
        "    \n",
        "  return volume\n",
        "    \n",
        "    \n",
        "for i in range(131):\n",
        "  img = nib.load(os.path.join(LITS_DIR, 'segmentation-%d.nii' % i))\n",
        "  volume[i] = vol(img)\n",
        "  print(volume[i])\n"
      ],
      "execution_count": null,
      "outputs": [
        {
          "output_type": "stream",
          "text": [
            "1366051.8493652344\n",
            "1486431.6312382221\n",
            "1924447.2306175232\n",
            "1560860.7577323914\n",
            "3144348.213724375\n",
            "1435887.3637908697\n",
            "1886647.9144248962\n",
            "1715650.9165420532\n",
            "1899724.569595337\n",
            "1548419.6640014648\n",
            "1706466.1237182617\n",
            "1473419.6179199219\n",
            "1800541.609096527\n",
            "1365586.7481689453\n",
            "1430854.3385925293\n",
            "1385848.4350204468\n",
            "1399497.6708984375\n",
            "1603829.505008757\n",
            "1320757.371790707\n",
            "1755115.4136943817\n",
            "1885358.449280262\n",
            "1782411.7133674622\n",
            "1344574.4788486958\n",
            "1252435.1773428917\n",
            "1374862.01877594\n",
            "1247668.3669742942\n",
            "1219966.7852342725\n",
            "1286075.0552538037\n",
            "2865131.0\n",
            "1648024.0\n",
            "2375079.0\n",
            "1132432.0\n",
            "2124505.0\n",
            "1828493.0\n",
            "1461944.0\n",
            "3215090.0\n",
            "1265420.0\n",
            "1872022.0\n",
            "1692716.0\n",
            "3341433.0\n",
            "2063109.0\n",
            "1633641.0\n",
            "1389572.0\n",
            "2717185.0\n",
            "2106497.0\n",
            "1220564.0\n",
            "583208.0\n",
            "1359697.0\n",
            "888794.0\n",
            "728813.0\n",
            "710996.0\n",
            "781190.0\n",
            "759594.0\n",
            "1615946.4486572742\n",
            "1803650.9448242188\n",
            "1887107.5362360477\n",
            "2237815.8393228054\n",
            "1859502.2277832031\n",
            "1249416.38858819\n",
            "1403944.3328401446\n",
            "2400561.8259937763\n",
            "1625939.1022372246\n",
            "1185119.1525399685\n",
            "1743557.2428209782\n",
            "2193236.60081172\n",
            "870206.08757025\n",
            "1713541.1452600956\n",
            "1393047.3384315968\n",
            "1407993.0705578327\n",
            "1848178.1129455566\n",
            "1055141.8987698555\n",
            "1669297.9373931885\n",
            "1427984.7960531712\n",
            "2034020.2019805908\n",
            "2540424.0640268326\n",
            "1756828.1045532227\n",
            "1977819.6953767538\n",
            "1899778.533358574\n",
            "1561482.9501180649\n",
            "1257498.4086914062\n",
            "1387058.8493347168\n",
            "1449720.9091186523\n",
            "1523146.2143439353\n",
            "1139642.8367614746\n",
            "2184387.092602551\n",
            "2062317.3116404414\n",
            "1754657.2086879015\n",
            "2280496.298282504\n",
            "1555851.1320362985\n",
            "1240422.5631150901\n",
            "1714773.2253005505\n",
            "1638270.5633279085\n",
            "1216012.3522359133\n",
            "1626287.0500343442\n",
            "1485636.9808301032\n",
            "1773664.8658558726\n",
            "2240964.155605316\n",
            "1942391.6851089299\n",
            "1556684.9767297804\n",
            "1577977.482745707\n",
            "2249427.3363411427\n",
            "2387253.366793096\n",
            "1837462.5156170726\n",
            "1255301.2791104317\n",
            "1574940.3887608945\n",
            "1754445.7434806228\n",
            "983072.266960144\n",
            "1539272.8954453468\n",
            "2065100.1186037064\n",
            "1487127.8801107407\n",
            "1336331.1975614727\n",
            "2253770.671458721\n",
            "1303345.20099473\n",
            "1644618.9222249985\n",
            "1808237.288661003\n",
            "1513206.778210938\n",
            "1857135.4326555133\n",
            "1865777.7887060642\n",
            "2124528.7273921967\n",
            "2520274.025390625\n",
            "1590833.4663448334\n",
            "1808213.8023490906\n",
            "1322781.0726070404\n",
            "2426458.904800415\n",
            "1096910.632376194\n",
            "1621890.523481369\n",
            "1762081.322479248\n",
            "1631289.7518920898\n",
            "2368985.595703125\n",
            "3317514.2601679265\n",
            "1721369.47812742\n"
          ],
          "name": "stdout"
        }
      ]
    },
    {
      "cell_type": "code",
      "metadata": {
        "id": "QZ6majdPahKn"
      },
      "source": [
        "f = open('HW1_BCB.csv','w',encoding='utf-8')\n",
        "wr = csv.writer(f)\n",
        "wr.writerow(['FileNum','LiverSize'])\n",
        "for i, vol in enumerate(volume):\n",
        "  wr.writerow([i,vol])\n",
        "f.close()"
      ],
      "execution_count": null,
      "outputs": []
    },
    {
      "cell_type": "code",
      "metadata": {
        "id": "z9otFv0m-I2n"
      },
      "source": [
        ""
      ],
      "execution_count": null,
      "outputs": []
    }
  ]
}