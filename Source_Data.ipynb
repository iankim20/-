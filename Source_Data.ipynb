{
  "nbformat": 4,
  "nbformat_minor": 0,
  "metadata": {
    "colab": {
      "name": "Source Data.ipynb",
      "version": "0.3.2",
      "provenance": [],
      "collapsed_sections": []
    },
    "kernelspec": {
      "name": "python3",
      "display_name": "Python 3"
    }
  },
  "cells": [
    {
      "cell_type": "code",
      "metadata": {
        "id": "__WgcD-VZcDQ",
        "colab_type": "code",
        "outputId": "a9cd8ec7-133e-43b4-fcf2-65dda2706934",
        "colab": {
          "base_uri": "https://localhost:8080/",
          "height": 34
        }
      },
      "source": [
        "from google.colab import drive                #구글드라이브에 마운트\n",
        "drive.mount('/gdrive')\n"
      ],
      "execution_count": 0,
      "outputs": [
        {
          "output_type": "stream",
          "text": [
            "Drive already mounted at /gdrive; to attempt to forcibly remount, call drive.mount(\"/gdrive\", force_remount=True).\n"
          ],
          "name": "stdout"
        }
      ]
    },
    {
      "cell_type": "markdown",
      "metadata": {
        "id": "4T5b8nRciWL4",
        "colab_type": "text"
      },
      "source": [
        ""
      ]
    },
    {
      "cell_type": "code",
      "metadata": {
        "id": "Z-HzgzLihKbO",
        "colab_type": "code",
        "outputId": "540c19ca-b140-47b7-9dab-26464ea5947f",
        "colab": {
          "base_uri": "https://localhost:8080/",
          "height": 138
        }
      },
      "source": [
        "!ls '/gdrive/My Drive/연구 KHB/Indel pattern'       #내드라이브에 접속"
      ],
      "execution_count": 0,
      "outputs": [
        {
          "output_type": "stream",
          "text": [
            "'170308_Indel pattern 추가분량_Expanded sequence222.xlsx'   chip4.csv\n",
            "'170308_Indel pattern 추가분량_Expanded sequence_3.xlsx'    chip4-result.txt\n",
            "'170308_Indel pattern 추가분량_Expanded sequence.xlsx'\t    chip5.csv\n",
            " chip2.csv\t\t\t\t\t\t    chip5-result.txt\n",
            " chip2-result.txt\t\t\t\t\t    chip6.csv\n",
            " chip3.csv\t\t\t\t\t\t    chip6-result.txt\n",
            " chip3-result.txt\n"
          ],
          "name": "stdout"
        }
      ]
    },
    {
      "cell_type": "code",
      "metadata": {
        "id": "2tLmqCwAhdRY",
        "colab_type": "code",
        "colab": {}
      },
      "source": [
        "import os\n",
        "import numpy as np\n",
        "import pandas as pd\n",
        "import matplotlib.pyplot as plt\n",
        "import tqdm\n",
        "\n",
        "cripsr_DIR='/gdrive/My Drive/연구 KHB/Indel pattern'\n",
        "path1='/gdrive/My Drive/연구 KHB/Indel pattern/170308_Indel pattern 추가분량_Expanded sequence222.xlsx'\n",
        "path2='/gdrive/My Drive/연구 KHB/Indel pattern/170308_Indel pattern 추가분량_Expanded sequence_3.xlsx'\n",
        "path3='/gdrive/My Drive/연구 KHB/Indel pattern/170308_Indel pattern 추가분량_Expanded sequence.xlsx'\n"
      ],
      "execution_count": 0,
      "outputs": []
    },
    {
      "cell_type": "code",
      "metadata": {
        "id": "LJLLsWr_ig0T",
        "colab_type": "code",
        "outputId": "592f6707-db9e-487f-8339-1e206bce45be",
        "colab": {
          "base_uri": "https://localhost:8080/",
          "height": 52
        }
      },
      "source": [
        "file1 = pd.read_excel (path1, sheetname=0, index_col=0)\n",
        "file2 = pd.read_excel (path1, sheetname=1, index_col=0)\n",
        "file3 = pd.read_excel (path1, sheetname=2, index_col=0)\n",
        "file4 = pd.read_excel (path1, sheetname=3, index_col=0)\n",
        "file5 = pd.read_excel (path1, sheetname=4, index_col=0)\n",
        "file6 = pd.read_excel (path2, sheetname=0, index_col=0)\n",
        "file7 = pd.read_excel (path2, sheetname=1, index_col=0)\n",
        "file8 = pd.read_excel (path2, sheetname=2, index_col=0)\n",
        "file9 = pd.read_excel (path2, sheetname=3, index_col=0)\n",
        "file10 = pd.read_excel (path2, sheetname=4, index_col=0)\n",
        "file11 = pd.read_excel (path3, sheetname=0, index_col=0)\n",
        "file12 = pd.read_excel (path3, sheetname=1, index_col=0)\n",
        "file13 = pd.read_excel (path3, sheetname=2, index_col=0)\n",
        "file14 = pd.read_excel (path3, sheetname=3, index_col=0)\n",
        "file15 = pd.read_excel (path3, sheetname=4, index_col=0)\n",
        "\n"
      ],
      "execution_count": 0,
      "outputs": [
        {
          "output_type": "stream",
          "text": [
            "/usr/local/lib/python3.6/dist-packages/pandas/util/_decorators.py:188: FutureWarning: The `sheetname` keyword is deprecated, use `sheet_name` instead\n",
            "  return func(*args, **kwargs)\n"
          ],
          "name": "stderr"
        }
      ]
    },
    {
      "cell_type": "code",
      "metadata": {
        "id": "1LaQmmdonG5G",
        "colab_type": "code",
        "outputId": "991e2e2a-9b4c-4f31-9dda-4dfb83394591",
        "colab": {
          "base_uri": "https://localhost:8080/",
          "height": 34
        }
      },
      "source": [
        "import re\n",
        "\n",
        "def inloc(strr,b):                                     #insertion 된 location을 보여주는 함수\n",
        "  temp = re.findall(r'\\d+', strr) \n",
        "  res = list(map(int, temp))\n",
        "  return res[b]\n",
        "\n",
        "inloc(\"24M3D\",1)\n",
        "\n"
      ],
      "execution_count": 0,
      "outputs": [
        {
          "output_type": "execute_result",
          "data": {
            "text/plain": [
              "3"
            ]
          },
          "metadata": {
            "tags": []
          },
          "execution_count": 193
        }
      ]
    },
    {
      "cell_type": "code",
      "metadata": {
        "id": "HryhfcWbg6wn",
        "colab_type": "code",
        "outputId": "643d0381-8fa8-49a9-b99b-4924bbade7d0",
        "colab": {
          "base_uri": "https://localhost:8080/",
          "height": 34
        }
      },
      "source": [
        "import re\n",
        "\n",
        "def inloc(strr,i):                                     #insertion 된 location을 보여주는 함수\n",
        "  temp = re.findall(r'\\d+', strr) \n",
        "  res = list(map(int, temp)) \n",
        "  num = i\n",
        "  return res[num]\n",
        "\n",
        "num_insert=0\n",
        "num_total=0\n",
        "insert=[]                                           #insertion 위치들을 모아놓은 리스트\n",
        "ins_num=[]                                          #insertion 수를 파악\n",
        "\n",
        "indel=file1.iloc[: , 4].dropna()\n",
        "indel=indel.tolist()\n",
        "for i in range(len(indel)):\n",
        "      if indel[i].find('I')!=-1:\n",
        "        num_insert+=1\n",
        "        insert.append(inloc(indel[i],0))\n",
        "        ins_num.append(inloc(indel[i],1))\n",
        "      else:\n",
        "        pass\n",
        "num_total+=len(indel)\n",
        "\n",
        "\n",
        "indel=file2.iloc[: , 4].dropna()\n",
        "indel=indel.tolist()\n",
        "for i in range(len(indel)):\n",
        "      if indel[i].find('I')!=-1:\n",
        "        num_insert+=1\n",
        "        insert.append(inloc(indel[i],0))\n",
        "        ins_num.append(inloc(indel[i],1))\n",
        "      else:\n",
        "        pass\n",
        "num_total+=len(indel)\n",
        "\n",
        "\n",
        "indel=file3.iloc[: , 4].dropna()\n",
        "indel=indel.tolist()\n",
        "for i in range(len(indel)):\n",
        "      if indel[i].find('I')!=-1:\n",
        "        num_insert+=1\n",
        "        insert.append(inloc(indel[i],0))\n",
        "        ins_num.append(inloc(indel[i],1))\n",
        "      else:\n",
        "        pass\n",
        "num_total+=len(indel)\n",
        "\n",
        "\n",
        "indel=file4.iloc[: , 4].dropna()\n",
        "indel=indel.tolist()\n",
        "for i in range(len(indel)):\n",
        "      if indel[i].find('I')!=-1:\n",
        "        num_insert+=1\n",
        "        insert.append(inloc(indel[i],0))\n",
        "        ins_num.append(inloc(indel[i],1))\n",
        "      else:\n",
        "        pass\n",
        "num_total+=len(indel)\n",
        "\n",
        "indel=file5.iloc[: , 4].dropna()\n",
        "indel=indel.tolist()\n",
        "\n",
        "for i in range(len(indel)):\n",
        "      if indel[i].find('I')!=-1:\n",
        "        num_insert+=1\n",
        "        insert.append(inloc(indel[i],0))\n",
        "        ins_num.append(inloc(indel[i],1))\n",
        "      else:\n",
        "        pass\n",
        "num_total+=len(indel)\n",
        "\n",
        "\n",
        "indel=file6.iloc[: , 4].dropna()\n",
        "indel=indel.tolist()\n",
        "for i in range(len(indel)):\n",
        "      if indel[i].find('I')!=-1:\n",
        "        num_insert+=1\n",
        "        insert.append(inloc(indel[i],0))\n",
        "        ins_num.append(inloc(indel[i],1))\n",
        "      else:\n",
        "        pass\n",
        "num_total+=len(indel)\n",
        "\n",
        "\n",
        "indel=file7.iloc[: , 4].dropna()\n",
        "indel=indel.tolist()\n",
        "for i in range(len(indel)):\n",
        "      if indel[i].find('I')!=-1:\n",
        "        num_insert+=1\n",
        "        insert.append(inloc(indel[i],0))\n",
        "        ins_num.append(inloc(indel[i],1))\n",
        "      else:\n",
        "        pass\n",
        "num_total+=len(indel)\n",
        "\n",
        "\n",
        "indel=file8.iloc[: , 4].dropna()\n",
        "indel=indel.tolist()\n",
        "for i in range(len(indel)):\n",
        "      if indel[i].find('I')!=-1:\n",
        "        num_insert+=1\n",
        "        insert.append(inloc(indel[i],0))\n",
        "        ins_num.append(inloc(indel[i],1))\n",
        "      else:\n",
        "        pass\n",
        "num_total+=len(indel)\n",
        "\n",
        "\n",
        "indel=file9.iloc[: , 4].dropna()\n",
        "indel=indel.tolist()\n",
        "for i in range(len(indel)):\n",
        "      if indel[i].find('I')!=-1:\n",
        "        num_insert+=1\n",
        "        insert.append(inloc(indel[i],0))\n",
        "        ins_num.append(inloc(indel[i],1))\n",
        "      else:\n",
        "        pass\n",
        "num_total+=len(indel)\n",
        "\n",
        "\n",
        "indel=file10.iloc[: , 4].dropna()\n",
        "indel=indel.tolist()\n",
        "for i in range(len(indel)):\n",
        "      if indel[i].find('I')!=-1:\n",
        "        num_insert+=1\n",
        "        insert.append(inloc(indel[i],0))\n",
        "        ins_num.append(inloc(indel[i],1))\n",
        "      else:\n",
        "        pass\n",
        "num_total+=len(indel)\n",
        "\n",
        "\n",
        "indel=file11.iloc[: , 4].dropna()\n",
        "indel=indel.tolist()\n",
        "for i in range(len(indel)):\n",
        "      if indel[i].find('I')!=-1:\n",
        "        num_insert+=1\n",
        "        insert.append(inloc(indel[i],0))\n",
        "        ins_num.append(inloc(indel[i],1))\n",
        "      else:\n",
        "        pass\n",
        "num_total+=len(indel)\n",
        "\n",
        "\n",
        "indel=file12.iloc[: , 4].dropna()\n",
        "indel=indel.tolist()\n",
        "for i in range(len(indel)):\n",
        "      if indel[i].find('I')!=-1:\n",
        "        num_insert+=1\n",
        "        insert.append(inloc(indel[i],0))\n",
        "        ins_num.append(inloc(indel[i],1))\n",
        "      else:\n",
        "        pass\n",
        "num_total+=len(indel)\n",
        "\n",
        "\n",
        "indel=file13.iloc[: , 4].dropna()\n",
        "indel=indel.tolist()\n",
        "for i in range(len(indel)):\n",
        "      if indel[i].find('I')!=-1:\n",
        "        num_insert+=1\n",
        "        insert.append(inloc(indel[i],0))\n",
        "        ins_num.append(inloc(indel[i],1))\n",
        "      else:\n",
        "        pass\n",
        "num_total+=len(indel)\n",
        "\n",
        "\n",
        "indel=file14.iloc[: , 4].dropna()\n",
        "indel=indel.tolist()\n",
        "for i in range(len(indel)):\n",
        "      if indel[i].find('I')!=-1:\n",
        "        num_insert+=1\n",
        "        insert.append(inloc(indel[i],0))\n",
        "        ins_num.append(inloc(indel[i], 1))\n",
        "      else:\n",
        "        pass\n",
        "num_total+=len(indel)\n",
        "\n",
        "\n",
        "indel=file15.iloc[: , 4].dropna()\n",
        "indel=indel.tolist()\n",
        "for i in range(len(indel)):\n",
        "      if indel[i].find('D')!=-1:\n",
        "        num_insert+=1\n",
        "        insert.append(inloc(indel[i],0))\n",
        "        ins_num.append(inloc(indel[i],1))\n",
        "      else:\n",
        "        pass\n",
        "num_total+=len(indel)\n",
        "\n",
        "\n",
        "\n",
        "print(num_insert, num_total)                             #전체 mutation 대비 insertion의 수를 알 수 있다."
      ],
      "execution_count": 0,
      "outputs": [
        {
          "output_type": "stream",
          "text": [
            "1875 28578\n"
          ],
          "name": "stdout"
        }
      ]
    },
    {
      "cell_type": "code",
      "metadata": {
        "id": "6AJWz817opw6",
        "colab_type": "code",
        "outputId": "afc0f387-b9cd-49ae-a8c8-dcb683881bf5",
        "colab": {
          "base_uri": "https://localhost:8080/",
          "height": 573
        }
      },
      "source": [
        "import numpy as np\n",
        "import matplotlib.pyplot as plt\n",
        "\n",
        "\n",
        "%matplotlib inline\n",
        "s = pd.Series(insert)\n",
        "p = s.plot(kind='hist', bins=30, color='green')\n",
        "\n",
        "bar_value_to_label = 32\n",
        "min_distance = float(\"inf\")  # initialize min_distance with infinity\n",
        "index_of_bar_to_label = 0\n",
        "for i, rectangle in enumerate(p.patches):  # iterate over every bar\n",
        "    tmp = abs(  # tmp = distance from middle of the bar to bar_value_to_label\n",
        "        (rectangle.get_x() +\n",
        "            (rectangle.get_width() * (1 / 2))) - bar_value_to_label)\n",
        "    if tmp < min_distance:  # we are searching for the bar with x cordinate\n",
        "                            # closest to bar_value_to_label\n",
        "        min_distance = tmp\n",
        "        index_of_bar_to_label = i\n",
        "p.patches[index_of_bar_to_label].set_color('dodgerblue')\n",
        "plt.xlabel('Locations')\n",
        "plt.ylabel('Frequency')\n",
        "plt.title('Locations of Insertion')\n",
        "plt.grid(True )\n",
        "plt.show()\n",
        "\n",
        "\n",
        "%matplotlib inline\n",
        "s = pd.Series(ins_num)\n",
        "p = s.plot(kind='hist', bins=40, color='green')\n",
        "\n",
        "bar_value_to_label = 1\n",
        "min_distance = float(\"inf\")  # initialize min_distance with infinity\n",
        "index_of_bar_to_label = 0\n",
        "for i, rectangle in enumerate(p.patches):  # iterate over every bar\n",
        "    tmp = abs(  # tmp = distance from middle of the bar to bar_value_to_label\n",
        "        (rectangle.get_x() +\n",
        "            (rectangle.get_width() * (1 / 2))) - bar_value_to_label)\n",
        "    if tmp < min_distance:  # we are searching for the bar with x cordinate\n",
        "                            # closest to bar_value_to_label\n",
        "        min_distance = tmp\n",
        "        index_of_bar_to_label = i\n",
        "p.patches[index_of_bar_to_label].set_color('firebrick')\n",
        "\n",
        "plt.xlabel('Number')\n",
        "plt.ylabel('Frequency')\n",
        "plt.title('Number of insertions')\n",
        "\n",
        "plt.grid(True)\n",
        "plt.show()\n",
        "\n"
      ],
      "execution_count": 254,
      "outputs": [
        {
          "output_type": "display_data",
          "data": {
            "image/png": "[encoded data removed]",
            "text/plain": [
              "<Figure size 432x288 with 1 Axes>"
            ]
          },
          "metadata": {
            "tags": []
          }
        },
        {
          "output_type": "display_data",
          "data": {
            "image/png": "[encoded data removed]",
            "text/plain": [
              "<Figure size 432x288 with 1 Axes>"
            ]
          },
          "metadata": {
            "tags": []
          }
        }
      ]
    },
    {
      "cell_type": "code",
      "metadata": {
        "id": "l6XNJH3pyxrW",
        "colab_type": "code",
        "colab": {
          "base_uri": "https://localhost:8080/",
          "height": 34
        },
        "outputId": "fe727a8d-48f3-4d44-af42-173ed3541d89"
      },
      "source": [
        "ins_num.count(1), len(ins_num), num_insert, num_total"
      ],
      "execution_count": 253,
      "outputs": [
        {
          "output_type": "execute_result",
          "data": {
            "text/plain": [
              "(1047, 1875, 1875, 28578)"
            ]
          },
          "metadata": {
            "tags": []
          },
          "execution_count": 253
        }
      ]
    },
    {
      "cell_type": "code",
      "metadata": {
        "id": "rR3Un0HiofSR",
        "colab_type": "code",
        "colab": {}
      },
      "source": [
        "num_insert=0\n",
        "num_total=0\n",
        "\n",
        "\n",
        "for i in range(15):\n",
        "  if i<5:\n",
        "    df=pd.read_excel (path1, sheetname=i%5, index_col=0, parse_cols= [4])\n",
        "    indel=df.dropna()                           #dropna()는 panda series에서 결측값 제거\n",
        "    indel=indel.tolist()                        # iloc은 pandas dataframe 에서 특정 column만 뽑아내는 함수. tolist()는 panda series 타입을 python list 타입으로 바꿔줌\n",
        "\n",
        "    for i in range(len(indel)):\n",
        "      if indel[i].find('I')==1:\n",
        "        num_insert+=1\n",
        "      else:\n",
        "        pass\n",
        "    num_total+=len(indel)\n",
        "    \n",
        "  if i>4 & i<10: \n",
        "    df=pd.read_excel (path2, sheetname=i%5, index_col=0, parse_cols= [4])\n",
        "    indel=df.dropna()                           #dropna()는 panda series에서 결측값 제거\n",
        "    indel=indel.tolist()                        # iloc은 pandas dataframe 에서 특정 column만 뽑아내는 함수. tolist()는 panda series 타입을 python list 타입으로 바꿔줌\n",
        "\n",
        "    for i in range(len(indel)):\n",
        "      if indel[i].find('I')==1:\n",
        "        num_insert+=1\n",
        "      else:\n",
        "        pass\n",
        "    num_total+=len(indel)  \n",
        "      \n",
        "  if i>19 & i<15: \n",
        "    df=pd.read_excel (path3, sheetname=i%5, index_col=0, parse_cols= [4])\n",
        "    indel=df.dropna()                           #dropna()는 panda series에서 결측값 제거\n",
        "    indel=indel.tolist()                        # iloc은 pandas dataframe 에서 특정 column만 뽑아내는 함수. tolist()는 panda series 타입을 python list 타입으로 바꿔줌\n",
        "\n",
        "    for i in range(len(indel)):\n",
        "      if indel[i].find('I')==1:\n",
        "        num_insert+=1\n",
        "      else:\n",
        "        pass\n",
        "    num_total+=len(indel)\n",
        " \n",
        "    \n",
        "  \n",
        "  \n"
      ],
      "execution_count": 0,
      "outputs": []
    },
    {
      "cell_type": "markdown",
      "metadata": {
        "id": "jMJerlLoWUzP",
        "colab_type": "text"
      },
      "source": [
        ""
      ]
    }
  ]
}