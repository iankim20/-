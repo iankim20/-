{
  "nbformat": 4,
  "nbformat_minor": 0,
  "metadata": {
    "colab": {
      "name": "HW2.ipynb",
      "provenance": [],
      "collapsed_sections": [],
      "include_colab_link": true
    },
    "kernelspec": {
      "name": "python3",
      "display_name": "Python 3"
    },
    "accelerator": "GPU"
  },
  "cells": [
    {
      "cell_type": "markdown",
      "metadata": {
        "id": "view-in-github",
        "colab_type": "text"
      },
      "source": [
        "<a href=\"https://colab.research.google.com/github/iankim20/-/blob/AI-and-medicine/HW2.ipynb\" target=\"_parent\"><img src=\"https://colab.research.google.com/assets/colab-badge.svg\" alt=\"Open In Colab\"/></a>"
      ]
    },
    {
      "cell_type": "code",
      "metadata": {
        "id": "tX8uJmQAA9Wb",
        "colab": {
          "base_uri": "https://localhost:8080/",
          "height": 34
        },
        "outputId": "aa3ac98f-23d5-44de-ac23-f01a1b3de198"
      },
      "source": [
        "from google.colab import drive                #구글드라이브에 마운트\n",
        "drive.mount('/gdrive')"
      ],
      "execution_count": null,
      "outputs": [
        {
          "output_type": "stream",
          "text": [
            "Drive already mounted at /gdrive; to attempt to forcibly remount, call drive.mount(\"/gdrive\", force_remount=True).\n"
          ],
          "name": "stdout"
        }
      ]
    },
    {
      "cell_type": "code",
      "metadata": {
        "id": "H_rsm1V7FUqa"
      },
      "source": [
        "import os\n",
        "import nibabel as nib\n",
        "import numpy as np\n",
        "import matplotlib.pyplot as plt\n",
        "\n",
        "LITS_DIR = '/gdrive/Team Drives/SevAIClass/LITS17'\n",
        "# TRAIN_DIR = '/gdrive/Team Drives/SevAIClass/'\n"
      ],
      "execution_count": null,
      "outputs": []
    },
    {
      "cell_type": "code",
      "metadata": {
        "id": "YfCPsr1hFVCA",
        "colab": {
          "base_uri": "https://localhost:8080/",
          "height": 89
        },
        "outputId": "3af74768-6707-4952-f692-d0e5e185e4b0"
      },
      "source": [
        "# 1부터 130까지 랜덤으로 100, 15, 15로 구획하기\n",
        "\n",
        "train_pt = np.sort(np.random.choice(131, 100, replace=False))\n",
        "\n",
        "y=range(131)\n",
        "validtest = np.delete(y,train_pt)\n",
        "valid_pt = np.sort(np.random.choice(validtest, 15, replace=False))            #np.delete는 주어진 index만큼 원래 array에서 지워주는 함수\n",
        "test_pt = np.sort(np.delete(y, np.append(train_pt, valid_pt)))\n",
        "\n",
        "print(list(train_pt))\n",
        "print(list(valid_pt))\n",
        "print(list(test_pt))\n"
      ],
      "execution_count": null,
      "outputs": [
        {
          "output_type": "stream",
          "text": [
            "[0, 1, 2, 3, 4, 5, 6, 7, 8, 10, 11, 12, 15, 16, 18, 19, 21, 22, 23, 24, 25, 26, 28, 29, 32, 33, 35, 36, 38, 39, 40, 41, 42, 43, 45, 46, 47, 48, 49, 50, 52, 53, 54, 55, 56, 59, 60, 61, 62, 63, 64, 65, 66, 67, 69, 70, 72, 73, 75, 76, 77, 79, 80, 81, 82, 85, 86, 87, 89, 90, 92, 95, 96, 97, 98, 99, 100, 102, 103, 105, 106, 109, 110, 111, 112, 113, 114, 115, 116, 118, 119, 120, 121, 122, 123, 125, 126, 127, 128, 130]\n",
            "[13, 14, 17, 20, 31, 34, 44, 71, 74, 78, 94, 101, 107, 124, 129]\n",
            "[9, 27, 30, 37, 51, 57, 58, 68, 83, 84, 88, 91, 93, 104, 108, 117]\n"
          ],
          "name": "stdout"
        }
      ]
    },
    {
      "cell_type": "code",
      "metadata": {
        "id": "5g6Zz0P5W_QY",
        "colab": {
          "base_uri": "https://localhost:8080/",
          "height": 34
        },
        "outputId": "ee35f6f1-78ad-48eb-fbe3-7ba0a0420aeb"
      },
      "source": [
        "train_pt=[0, 1, 2, 4, 5, 6, 7, 9, 10, 12, 13, 14, 15, 16, 17, 20, 21, 22, 23, 24, 25, 28, 30, 31, 33, 35, 36, 37, 38, 39, 40, 41, 44, 45, 46, 47, 48, 49, 50, 51, 52, 53, 54, 55, 57, 59, 62, 63, 66, 67, 70, 71, 72, 73, 74, 75, 76, 77, 79, 81, 82, 83, 84, 85, 86, 88, 89, 90, 91, 93, 94, 95, 96, 97, 98, 100, 101, 103, 104, 105, 106, 107, 108, 111, 112, 113, 114, 115, 117, 119, 120, 121, 123, 124, 125, 126, 127, 128, 129, 130]\n",
        "train_pt = np.array(train_pt)\n",
        "\n",
        "valid_pt = np.array([13, 14, 17, 20, 31, 34, 44, 71, 74, 78, 94, 101, 107, 124, 129])\n",
        "test_pt = np.array([9, 27, 30, 37, 51, 57, 58, 68, 83, 84, 88, 91, 93, 104, 108, 117])\n",
        "\n",
        "\n",
        "np.shape(test_pt)"
      ],
      "execution_count": null,
      "outputs": [
        {
          "output_type": "execute_result",
          "data": {
            "text/plain": [
              "(16,)"
            ]
          },
          "metadata": {
            "tags": []
          },
          "execution_count": 3
        }
      ]
    },
    {
      "cell_type": "code",
      "metadata": {
        "id": "HUDq444bjf2u",
        "colab": {
          "base_uri": "https://localhost:8080/",
          "height": 207
        },
        "outputId": "d78f55f7-dff5-46c1-d992-36a7c5cab638"
      },
      "source": [
        "from tqdm import tqdm\n",
        "\n",
        "\n",
        "img= nib.load(os.path.join(LITS_DIR, 'volume-%d.nii' % 30))\n",
        "data=img.get_fdata()                                                 #data shape는 3번째 값이 i마다 다를 수 있지만 512,512, 121 형태\n",
        "\n",
        "\n",
        "for i in tqdm((40,41,42)):\n",
        "  fname_template = \"/gdrive/Team Drives/SevAIClass/Working/KYT/pr-\"+str(i)+\".npy\"\n",
        "  tmp_arr= data[:, :, i]\n",
        "  \n",
        "  print(fname_template)\n",
        "  print(tmp_arr.shape)\n",
        "  print(tmp_arr.dtype)\n",
        "  \n",
        "  np.save(fname_template, tmp_arr.astype(np.int16)) # x_save.npy\n",
        "  \n",
        "  \n",
        "'''tmp_arr=np.delete(tmp_arr, 0,0)\n",
        "print(np.shape(tmp_arr))\n",
        "tmp_arr'''\n",
        "\n"
      ],
      "execution_count": null,
      "outputs": [
        {
          "output_type": "stream",
          "text": [
            "100%|██████████| 3/3 [00:00<00:00, 90.32it/s]"
          ],
          "name": "stderr"
        },
        {
          "output_type": "stream",
          "text": [
            "/gdrive/Team Drives/SevAIClass/Working/KYT/pr-40.npy\n",
            "(512, 512)\n",
            "float64\n",
            "/gdrive/Team Drives/SevAIClass/Working/KYT/pr-41.npy\n",
            "(512, 512)\n",
            "float64\n",
            "/gdrive/Team Drives/SevAIClass/Working/KYT/pr-42.npy\n",
            "(512, 512)\n",
            "float64\n"
          ],
          "name": "stdout"
        },
        {
          "output_type": "stream",
          "text": [
            "\n"
          ],
          "name": "stderr"
        },
        {
          "output_type": "execute_result",
          "data": {
            "text/plain": [
              "'tmp_arr=np.delete(tmp_arr, 0,0)\\nprint(np.shape(tmp_arr))\\ntmp_arr'"
            ]
          },
          "metadata": {
            "tags": []
          },
          "execution_count": 17
        }
      ]
    },
    {
      "cell_type": "code",
      "metadata": {
        "id": "dgUZdqobrTPu",
        "colab": {
          "base_uri": "https://localhost:8080/",
          "height": 34
        },
        "outputId": "db8c8662-4286-45bc-89c7-0e69415374ab"
      },
      "source": [
        "!ls\n"
      ],
      "execution_count": null,
      "outputs": [
        {
          "output_type": "stream",
          "text": [
            "sample_data\n"
          ],
          "name": "stdout"
        }
      ]
    },
    {
      "cell_type": "code",
      "metadata": {
        "id": "jXcIoB-eeFyY",
        "colab": {
          "base_uri": "https://localhost:8080/",
          "height": 34
        },
        "outputId": "7db29509-612d-4e48-bcd5-f5704958404d"
      },
      "source": [
        "# liver와 no_liver 개수 세기\n",
        "from tqdm import tqdm              #progress bar 설치\n",
        "\n",
        "liver=0\n",
        "no_liver=0\n",
        "\n",
        "for i in tqdm(train_pt):\n",
        "  img= nib.load(os.path.join(LITS_DIR, 'segmentation-%d.nii' % i))\n",
        "  data=img.get_fdata()                                                 #data shape는 3번째 값이 i마다 다를 수 있지만 512,512, 121 형태\n",
        "  z_num=data.shape[2]\n",
        "  tdata=np.transpose(data,(1,0,2))                                     #x,y 바꿔줌 -> tdata\n",
        "  for j in range(z_num):\n",
        "    if np.count_nonzero(tdata[:, :, j])==0:\n",
        "      no_liver+=1\n",
        "      \n",
        "    else:\n",
        "      liver+=1\n",
        "    \n",
        "print(liver, no_liver)\n",
        "      \n",
        "  \n"
      ],
      "execution_count": null,
      "outputs": [
        {
          "output_type": "stream",
          "text": [
            "14649 29861\n"
          ],
          "name": "stdout"
        }
      ]
    },
    {
      "cell_type": "code",
      "metadata": {
        "id": "F4Fb8wKOsr_Z",
        "colab": {
          "base_uri": "https://localhost:8080/",
          "height": 34
        },
        "outputId": "2386f580-9a99-471c-91d2-cce8b98593de"
      },
      "source": [
        "#train 저장하기_각각 liver와 non_liver로\n",
        "\n",
        "from tqdm import tqdm              #progress bar 설치\n",
        "from PIL import Image\n",
        "\n",
        "num_liver=0\n",
        "num_no_liver=0\n",
        "\n",
        "for i in tqdm(train_pt):\n",
        "  img_vol= nib.load(os.path.join(LITS_DIR, 'volume-%d.nii' % i))\n",
        "  img_seg= nib.load(os.path.join(LITS_DIR, 'segmentation-%d.nii' % i))     #liver 또는 non_liver로 나누기 위해 처음이자 마지막으로 seg로 받음\n",
        "  data=img_vol.get_fdata()                                                 #data shape는 3번째 값이 i마다 다를 수 있지만 512,512, 121 형태\n",
        "  label=img_seg.get_fdata()\n",
        "  \n",
        "  z_num=data.shape[2]\n",
        "  tdata=np.transpose(data,(1,0,2))                                     #x,y 바꿔줌 -> tdata\n",
        "  #여기서부터 tdata[:, :, j]를 -175부터 274로 짜르고, 크기를 512를 256로 줄여주자\n",
        "  tdata = np.clip(tdata, -175, 275)\n",
        "  tdata = np.interp(tdata, (-175, 275), (0,255))\n",
        "  \n",
        "  for j in range(z_num):\n",
        "    if np.count_nonzero(label[:, :, j])==0:                           #liver가 없다\n",
        "      fname_template = \"/gdrive/Team Drives/SevAIClass/Working/KYT/Train_set/non_liver/train_non_liver-\"+str(num_no_liver)+\".png\"\n",
        "      pil_im = Image.fromarray (tdata[:, :, j].astype(np.uint8))\n",
        "      pil_im = pil_im.convert(\"L\")                                        #convert(\"L\")은 grey scale임을 알려주는 것\n",
        "      pil_im.save(fname_template, \"PNG\")                                  # x_save.png\n",
        "      \n",
        "      num_no_liver += 1\n",
        "      \n",
        "    else:                                                             #liver가 있다\n",
        "      fname_template = \"/gdrive/Team Drives/SevAIClass/Working/KYT/Train_set/liver/train_liver-\"+str(num_liver)+\".png\"\n",
        "      pil_im = Image.fromarray (tdata[:, :, j].astype(np.uint8))\n",
        "      pil_im = pil_im.convert(\"L\")\n",
        "      pil_im.save(fname_template, \"PNG\")\n",
        "      \n",
        "      num_liver+=1\n",
        "    \n"
      ],
      "execution_count": null,
      "outputs": [
        {
          "output_type": "stream",
          "text": [
            "100%|██████████| 100/100 [51:43<00:00, 39.86s/it]\n"
          ],
          "name": "stderr"
        }
      ]
    },
    {
      "cell_type": "code",
      "metadata": {
        "id": "Vrujlv30UEO-",
        "colab": {
          "base_uri": "https://localhost:8080/",
          "height": 34
        },
        "outputId": "70a50473-4c6d-48bc-ccb4-a8ef715057ae"
      },
      "source": [
        "import os\n",
        "\n",
        "path=\"/gdrive/Team Drives/SevAIClass/Working/KYT/Valid_set/\"\n",
        "\n",
        "try:  \n",
        "    os.mkdir(path)\n",
        "except OSError:  \n",
        "    print (\"Creation of the directory %s failed\" % path)\n",
        "else:  \n",
        "    print (\"Successfully created the directory %s \" % path)"
      ],
      "execution_count": null,
      "outputs": [
        {
          "output_type": "stream",
          "text": [
            "Successfully created the directory /gdrive/Team Drives/SevAIClass/Working/KYT/Valid_set/ \n"
          ],
          "name": "stdout"
        }
      ]
    },
    {
      "cell_type": "code",
      "metadata": {
        "id": "GSp3IM6ATZLw",
        "colab": {
          "base_uri": "https://localhost:8080/",
          "height": 390
        },
        "outputId": "272da31e-61a8-49d3-9e12-e4e15814e34e"
      },
      "source": [
        "# valid set과 test set을 각각 liver와 nonliver로 나눠서 저장하기-test는 분류후 나중에 알고리즘이 얼만큼 맞추는지 보는거로 판단\n",
        "\n",
        "from tqdm import tqdm              #progress bar 설치\n",
        "from PIL import Image\n",
        "\n",
        "num_liver=0\n",
        "num_no_liver=0\n",
        "\n",
        "for i in tqdm(valid_pt):\n",
        "  img_vol= nib.load(os.path.join(LITS_DIR, 'volume-%d.nii' % i))\n",
        "  img_seg= nib.load(os.path.join(LITS_DIR, 'segmentation-%d.nii' % i))     #liver 또는 non_liver로 나누기 위해 처음이자 마지막으로 seg로 받음\n",
        "  data=img_vol.get_fdata()                                                 #data shape는 3번째 값이 i마다 다를 수 있지만 512,512, 121 형태\n",
        "  label=img_seg.get_fdata()\n",
        "  \n",
        "  z_num=data.shape[2]\n",
        "  tdata=np.transpose(data,(1,0,2))                                     #x,y 바꿔줌 -> tdata\n",
        "  #여기서부터 tdata[:, :, j]를 -175부터 274로 짜르고, 크기를 512를 256로 줄여주자\n",
        "  tdata = np.clip(tdata, -175, 275)\n",
        "  tdata = np.interp(tdata, (-175, 275), (0,255))\n",
        "  \n",
        "  for j in range(z_num):\n",
        "    if np.count_nonzero(label[:, :, j])==0:                           #liver가 없다\n",
        "      fname_template = \"/gdrive/Team Drives/SevAIClass/Working/KYT/Valid_set/non_liver/valid_non_liver-\"+str(num_no_liver)+\".png\"\n",
        "      pil_im = Image.fromarray (tdata[:, :, j].astype(np.uint8))\n",
        "      pil_im = pil_im.convert(\"L\")                                        #convert(\"L\")은 grey scale임을 알려주는 것\n",
        "      pil_im.save(fname_template, \"PNG\")                                  # x_save.png\n",
        "      \n",
        "      num_no_liver += 1\n",
        "      \n",
        "    else:                                                             #liver가 있다\n",
        "      fname_template = \"/gdrive/Team Drives/SevAIClass/Working/KYT/Valid_set/liver/valid_liver-\"+str(num_liver)+\".png\"\n",
        "      pil_im = Image.fromarray (tdata[:, :, j].astype(np.uint8))\n",
        "      pil_im = pil_im.convert(\"L\")\n",
        "      pil_im.save(fname_template, \"PNG\")\n",
        "      \n",
        "      num_liver+=1\n",
        "    \n",
        "num_liver=0\n",
        "num_no_liver=0\n",
        "\n",
        "for i in tqdm(test_pt):\n",
        "  img_vol= nib.load(os.path.join(LITS_DIR, 'volume-%d.nii' % i))\n",
        "  img_seg= nib.load(os.path.join(LITS_DIR, 'segmentation-%d.nii' % i))     #liver 또는 non_liver로 나누기 위해 처음이자 마지막으로 seg로 받음\n",
        "  data=img_vol.get_fdata()                                                 #data shape는 3번째 값이 i마다 다를 수 있지만 512,512, 121 형태\n",
        "  label=img_seg.get_fdata()\n",
        "  \n",
        "  z_num=data.shape[2]\n",
        "  tdata=np.transpose(data,(1,0,2))                                     #x,y 바꿔줌 -> tdata\n",
        "  #여기서부터 tdata[:, :, j]를 -175부터 274로 짜르고, 크기를 512를 256로 줄여주자\n",
        "  tdata = np.clip(tdata, -175, 275)\n",
        "  tdata = np.interp(tdata, (-175, 275), (0,255))\n",
        "  \n",
        "  for j in range(z_num):\n",
        "    if np.count_nonzero(label[:, :, j])==0:                           #liver가 없다\n",
        "      fname_template = \"/gdrive/Team Drives/SevAIClass/Working/KYT/Test_set/non_liver/test_non_liver-\"+str(num_no_liver)+\".png\"\n",
        "      pil_im = Image.fromarray (tdata[:, :, j].astype(np.uint8))\n",
        "      pil_im = pil_im.convert(\"L\")                                        #convert(\"L\")은 grey scale임을 알려주는 것\n",
        "      pil_im.save(fname_template, \"PNG\")                                  # x_save.png\n",
        "      \n",
        "      num_no_liver += 1\n",
        "      \n",
        "    else:                                                             #liver가 있다\n",
        "      fname_template = \"/gdrive/Team Drives/SevAIClass/Working/KYT/Test_set/liver/test_liver-\"+str(num_liver)+\".png\"\n",
        "      pil_im = Image.fromarray (tdata[:, :, j].astype(np.uint8))\n",
        "      pil_im = pil_im.convert(\"L\")\n",
        "      pil_im.save(fname_template, \"PNG\")\n",
        "      \n",
        "      num_liver+=1\n",
        "\n"
      ],
      "execution_count": null,
      "outputs": [
        {
          "output_type": "stream",
          "text": [
            "\n",
            "  0%|          | 0/15 [00:00<?, ?it/s]\u001b[A"
          ],
          "name": "stderr"
        },
        {
          "output_type": "error",
          "ename": "FileNotFoundError",
          "evalue": "ignored",
          "traceback": [
            "\u001b[0;31m---------------------------------------------------------------------------\u001b[0m",
            "\u001b[0;31mFileNotFoundError\u001b[0m                         Traceback (most recent call last)",
            "\u001b[0;32m<ipython-input-22-3d6b3ad1e79f>\u001b[0m in \u001b[0;36m<module>\u001b[0;34m()\u001b[0m\n\u001b[1;32m     23\u001b[0m       \u001b[0mpil_im\u001b[0m \u001b[0;34m=\u001b[0m \u001b[0mImage\u001b[0m\u001b[0;34m.\u001b[0m\u001b[0mfromarray\u001b[0m \u001b[0;34m(\u001b[0m\u001b[0mtdata\u001b[0m\u001b[0;34m[\u001b[0m\u001b[0;34m:\u001b[0m\u001b[0;34m,\u001b[0m \u001b[0;34m:\u001b[0m\u001b[0;34m,\u001b[0m \u001b[0mj\u001b[0m\u001b[0;34m]\u001b[0m\u001b[0;34m.\u001b[0m\u001b[0mastype\u001b[0m\u001b[0;34m(\u001b[0m\u001b[0mnp\u001b[0m\u001b[0;34m.\u001b[0m\u001b[0muint8\u001b[0m\u001b[0;34m)\u001b[0m\u001b[0;34m)\u001b[0m\u001b[0;34m\u001b[0m\u001b[0;34m\u001b[0m\u001b[0m\n\u001b[1;32m     24\u001b[0m       \u001b[0mpil_im\u001b[0m \u001b[0;34m=\u001b[0m \u001b[0mpil_im\u001b[0m\u001b[0;34m.\u001b[0m\u001b[0mconvert\u001b[0m\u001b[0;34m(\u001b[0m\u001b[0;34m\"L\"\u001b[0m\u001b[0;34m)\u001b[0m                                        \u001b[0;31m#convert(\"L\")은 grey scale임을 알려주는 것\u001b[0m\u001b[0;34m\u001b[0m\u001b[0;34m\u001b[0m\u001b[0m\n\u001b[0;32m---> 25\u001b[0;31m       \u001b[0mpil_im\u001b[0m\u001b[0;34m.\u001b[0m\u001b[0msave\u001b[0m\u001b[0;34m(\u001b[0m\u001b[0mfname_template\u001b[0m\u001b[0;34m,\u001b[0m \u001b[0;34m\"PNG\"\u001b[0m\u001b[0;34m)\u001b[0m                                  \u001b[0;31m# x_save.png\u001b[0m\u001b[0;34m\u001b[0m\u001b[0;34m\u001b[0m\u001b[0m\n\u001b[0m\u001b[1;32m     26\u001b[0m \u001b[0;34m\u001b[0m\u001b[0m\n\u001b[1;32m     27\u001b[0m       \u001b[0mnum_no_liver\u001b[0m \u001b[0;34m+=\u001b[0m \u001b[0;36m1\u001b[0m\u001b[0;34m\u001b[0m\u001b[0;34m\u001b[0m\u001b[0m\n",
            "\u001b[0;32m/usr/local/lib/python3.6/dist-packages/PIL/Image.py\u001b[0m in \u001b[0;36msave\u001b[0;34m(self, fp, format, **params)\u001b[0m\n\u001b[1;32m   1923\u001b[0m             \u001b[0;31m# Open also for reading (\"+\"), because TIFF save_all\u001b[0m\u001b[0;34m\u001b[0m\u001b[0;34m\u001b[0m\u001b[0;34m\u001b[0m\u001b[0m\n\u001b[1;32m   1924\u001b[0m             \u001b[0;31m# writer needs to go back and edit the written data.\u001b[0m\u001b[0;34m\u001b[0m\u001b[0;34m\u001b[0m\u001b[0;34m\u001b[0m\u001b[0m\n\u001b[0;32m-> 1925\u001b[0;31m             \u001b[0mfp\u001b[0m \u001b[0;34m=\u001b[0m \u001b[0mbuiltins\u001b[0m\u001b[0;34m.\u001b[0m\u001b[0mopen\u001b[0m\u001b[0;34m(\u001b[0m\u001b[0mfilename\u001b[0m\u001b[0;34m,\u001b[0m \u001b[0;34m\"w+b\"\u001b[0m\u001b[0;34m)\u001b[0m\u001b[0;34m\u001b[0m\u001b[0;34m\u001b[0m\u001b[0m\n\u001b[0m\u001b[1;32m   1926\u001b[0m \u001b[0;34m\u001b[0m\u001b[0m\n\u001b[1;32m   1927\u001b[0m         \u001b[0;32mtry\u001b[0m\u001b[0;34m:\u001b[0m\u001b[0;34m\u001b[0m\u001b[0;34m\u001b[0m\u001b[0m\n",
            "\u001b[0;31mFileNotFoundError\u001b[0m: [Errno 2] No such file or directory: '/gdrive/Team Drives/SevAIClass/Working/KYT/Valid_set/non_liver/train_non_liver-0.png'"
          ]
        }
      ]
    },
    {
      "cell_type": "code",
      "metadata": {
        "id": "r2jae0RIIccp",
        "colab": {
          "base_uri": "https://localhost:8080/",
          "height": 356
        },
        "outputId": "3c49699e-de5d-452b-bedd-939227128cdd"
      },
      "source": [
        "import torch\n",
        "import torchvision\n",
        "import torchvision.transforms as transforms\n",
        "\n",
        "\n",
        "\n",
        "transform = transforms.Compose(\n",
        "    [transforms.ToTensor(),\n",
        "     transforms.Normalize((0.5, 0.5, 0.5), (0.5, 0.5, 0.5))])\n",
        "\n",
        "trainset = torchvision.datasets.CIFAR10(root='./data', train=True,\n",
        "                                        download=True, transform=transform)\n",
        "trainloader = torch.utils.data.DataLoader(trainset, batch_size=4,\n",
        "                                          shuffle=True, num_workers=2)\n",
        "\n",
        "testset = torchvision.datasets.CIFAR10(root='./data', train=False,\n",
        "                                       download=True, transform=transform)\n",
        "testloader = torch.utils.data.DataLoader(testset, batch_size=4,\n",
        "                                         shuffle=False, num_workers=2)\n",
        "\n",
        "classes = ('plane', 'car', 'bird', 'cat',\n",
        "           'deer', 'dog', 'frog', 'horse', 'ship', 'truck')\n",
        "\n",
        "\n",
        "\n",
        "# functions to show an image\n",
        "\n",
        "\n",
        "def imshow(img):\n",
        "    img = img / 2 + 0.5     # unnormalize\n",
        "    npimg = img.numpy()\n",
        "    plt.imshow(np.transpose(npimg, (1, 2, 0)))\n",
        "    plt.show()\n",
        "\n",
        "\n",
        "# get some random training images\n",
        "dataiter = iter(trainloader)\n",
        "images, labels = dataiter.next()\n",
        "\n",
        "# show images\n",
        "imshow(torchvision.utils.make_grid(images))\n",
        "# print labels\n",
        "print(' '.join('%5s' % classes[labels[j]] for j in range(4)))"
      ],
      "execution_count": null,
      "outputs": [
        {
          "output_type": "error",
          "ename": "KeyboardInterrupt",
          "evalue": "ignored",
          "traceback": [
            "\u001b[0;31m---------------------------------------------------------------------------\u001b[0m",
            "\u001b[0;31mKeyboardInterrupt\u001b[0m                         Traceback (most recent call last)",
            "\u001b[0;32m<ipython-input-4-a694e6b603f1>\u001b[0m in \u001b[0;36m<module>\u001b[0;34m()\u001b[0m\n\u001b[0;32m----> 1\u001b[0;31m \u001b[0;32mimport\u001b[0m \u001b[0mtorch\u001b[0m\u001b[0;34m\u001b[0m\u001b[0;34m\u001b[0m\u001b[0m\n\u001b[0m\u001b[1;32m      2\u001b[0m \u001b[0;32mimport\u001b[0m \u001b[0mtorchvision\u001b[0m\u001b[0;34m\u001b[0m\u001b[0;34m\u001b[0m\u001b[0m\n\u001b[1;32m      3\u001b[0m \u001b[0;32mimport\u001b[0m \u001b[0mtorchvision\u001b[0m\u001b[0;34m.\u001b[0m\u001b[0mtransforms\u001b[0m \u001b[0;32mas\u001b[0m \u001b[0mtransforms\u001b[0m\u001b[0;34m\u001b[0m\u001b[0;34m\u001b[0m\u001b[0m\n\u001b[1;32m      4\u001b[0m \u001b[0;34m\u001b[0m\u001b[0m\n\u001b[1;32m      5\u001b[0m \u001b[0;34m\u001b[0m\u001b[0m\n",
            "\u001b[0;32m/usr/local/lib/python3.6/dist-packages/torch/__init__.py\u001b[0m in \u001b[0;36m<module>\u001b[0;34m()\u001b[0m\n\u001b[1;32m     77\u001b[0m \u001b[0;32mdel\u001b[0m \u001b[0m_dl_flags\u001b[0m\u001b[0;34m\u001b[0m\u001b[0;34m\u001b[0m\u001b[0m\n\u001b[1;32m     78\u001b[0m \u001b[0;34m\u001b[0m\u001b[0m\n\u001b[0;32m---> 79\u001b[0;31m \u001b[0;32mfrom\u001b[0m \u001b[0mtorch\u001b[0m\u001b[0;34m.\u001b[0m\u001b[0m_C\u001b[0m \u001b[0;32mimport\u001b[0m \u001b[0;34m*\u001b[0m\u001b[0;34m\u001b[0m\u001b[0;34m\u001b[0m\u001b[0m\n\u001b[0m\u001b[1;32m     80\u001b[0m \u001b[0;34m\u001b[0m\u001b[0m\n\u001b[1;32m     81\u001b[0m __all__ += [name for name in dir(_C)\n",
            "\u001b[0;31mKeyboardInterrupt\u001b[0m: "
          ]
        }
      ]
    },
    {
      "cell_type": "code",
      "metadata": {
        "id": "j0DrJcNuIpUE"
      },
      "source": [
        "import torch.nn as nn\n",
        "import torch.nn.functional as F\n",
        "\n",
        "\n",
        "class Net(nn.Module):\n",
        "    def __init__(self):\n",
        "        super(Net, self).__init__()\n",
        "        self.conv1 = nn.Conv2d(3, 6, 5)              #여기에 Resnet 넣으면 ResNet 되는거임. 여기만 고치면됨\n",
        "        self.pool = nn.MaxPool2d(2, 2)\n",
        "        self.conv2 = nn.Conv2d(6, 16, 5)\n",
        "        self.fc1 = nn.Linear(16 * 5 * 5, 120)\n",
        "        self.fc2 = nn.Linear(120, 84)\n",
        "        self.fc3 = nn.Linear(84, 10)\n",
        "\n",
        "    def forward(self, x):\n",
        "        x = self.pool(F.relu(self.conv1(x)))\n",
        "        x = self.pool(F.relu(self.conv2(x)))\n",
        "        x = x.view(-1, 16 * 5 * 5)\n",
        "        x = F.relu(self.fc1(x))\n",
        "        x = F.relu(self.fc2(x))\n",
        "        x = self.fc3(x)\n",
        "        return x\n",
        "\n",
        "      \n",
        "# Device setting          새로 추가함!!\n",
        "dev = torch.device(\"cuda:0\" if torch.cuda.is_available() else \"cpu\")\n",
        "print(dev)\n",
        "\n",
        "net = Net().to(dev)         #여기서도 to(dev) 추가함!\n",
        "\n"
      ],
      "execution_count": null,
      "outputs": []
    },
    {
      "cell_type": "code",
      "metadata": {
        "id": "cLPCIdIyIqdr"
      },
      "source": [
        "import torch.optim as optim\n",
        "​\n",
        "criterion = nn.CrossEntropyLoss()\n",
        "optimizer = optim.SGD(net.parameters(), lr=0.001, momentum=0.9)"
      ],
      "execution_count": null,
      "outputs": []
    },
    {
      "cell_type": "code",
      "metadata": {
        "id": "rp5z2HXxIr6m"
      },
      "source": [
        "for epoch in range(2):  # loop over the dataset multiple times\n",
        "\n",
        "    running_loss = 0.0\n",
        "    for i, data in enumerate(trainloader, 0):\n",
        "        # get the inputs\n",
        "        inputs, labels = data\n",
        "        inputs, labels = inputs.to(dev), labels.to(dev)         #여기도 새로 추가함!!\n",
        "\n",
        "        # zero the parameter gradients\n",
        "        optimizer.zero_grad()\n",
        "\n",
        "        # forward + backward + optimize\n",
        "        outputs = net(inputs)\n",
        "        loss = criterion(outputs, labels)\n",
        "        loss.backward()\n",
        "        optimizer.step()\n",
        "\n",
        "        # print statistics\n",
        "        running_loss += loss.item()\n",
        "        if i % 2000 == 1999:    # print every 2000 mini-batches\n",
        "            print('[%d, %5d] loss: %.3f' %\n",
        "                  (epoch + 1, i + 1, running_loss / 2000))\n",
        "            running_loss = 0.0\n",
        "\n",
        "print('Finished Training')"
      ],
      "execution_count": null,
      "outputs": []
    },
    {
      "cell_type": "code",
      "metadata": {
        "id": "QLDZnY7qcA9X",
        "colab": {
          "base_uri": "https://localhost:8080/",
          "height": 311
        },
        "outputId": "1bb9a92b-40e9-4409-b4ff-370e50b6f752"
      },
      "source": [
        "!nvidia-smi"
      ],
      "execution_count": null,
      "outputs": [
        {
          "output_type": "stream",
          "text": [
            "Wed Jun 26 06:19:08 2019       \n",
            "+-----------------------------------------------------------------------------+\n",
            "| NVIDIA-SMI 418.67       Driver Version: 410.79       CUDA Version: 10.0     |\n",
            "|-------------------------------+----------------------+----------------------+\n",
            "| GPU  Name        Persistence-M| Bus-Id        Disp.A | Volatile Uncorr. ECC |\n",
            "| Fan  Temp  Perf  Pwr:Usage/Cap|         Memory-Usage | GPU-Util  Compute M. |\n",
            "|===============================+======================+======================|\n",
            "|   0  Tesla K80           Off  | 00000000:00:04.0 Off |                    0 |\n",
            "| N/A   38C    P8    25W / 149W |      0MiB / 11441MiB |      0%      Default |\n",
            "+-------------------------------+----------------------+----------------------+\n",
            "                                                                               \n",
            "+-----------------------------------------------------------------------------+\n",
            "| Processes:                                                       GPU Memory |\n",
            "|  GPU       PID   Type   Process name                             Usage      |\n",
            "|=============================================================================|\n",
            "|  No running processes found                                                 |\n",
            "+-----------------------------------------------------------------------------+\n"
          ],
          "name": "stdout"
        }
      ]
    }
  ]
}